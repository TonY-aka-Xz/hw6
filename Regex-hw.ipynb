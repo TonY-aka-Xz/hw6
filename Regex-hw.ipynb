{
 "cells": [
  {
   "cell_type": "markdown",
   "metadata": {},
   "source": [
    "# Домашнее задание к лекции \"Регулярные выражения\"\n",
    "Для зачета необходимо выполнить 4 задания.  \n",
    "Для зачета с отличием – все."
   ]
  },
  {
   "cell_type": "code",
   "execution_count": 1,
   "metadata": {},
   "outputs": [],
   "source": [
    "import re"
   ]
  },
  {
   "cell_type": "markdown",
   "metadata": {},
   "source": [
    "## Задание 1"
   ]
  },
  {
   "cell_type": "markdown",
   "metadata": {},
   "source": [
    "Напишите функцию, которая принимает на вход строку и проверяет является ли она валидным транспортным номером. Если да, то функция должна возвращать отдельно номер и регион."
   ]
  },
  {
   "cell_type": "code",
   "execution_count": 450,
   "metadata": {},
   "outputs": [],
   "source": [
    "registration_marks = 'С065МК78'\n",
    "\n",
    "def number_validity(registration_marks):\n",
    "    regex_reg_marks = '([АВЕКМНОРСТУХ]{1}[0-9]{3}[АВЕКМНОРСТУХ]{2})\\s?(\\d{2,3})$'\n",
    "    reult = re.findall(regex_reg_marks, registration_marks)\n",
    "    \n",
    "    if re.findall(regex_reg_marks, registration_marks):\n",
    "        return print(f'Номер валиден. \\nНомер: {reult[0][0]}\\nРегион: {reult[0][1]}')\n",
    "    else:\n",
    "        return print('Номер не валиден')"
   ]
  },
  {
   "cell_type": "code",
   "execution_count": 451,
   "metadata": {},
   "outputs": [
    {
     "name": "stdout",
     "output_type": "stream",
     "text": [
      "Номер валиден. \n",
      "Номер: С065МК\n",
      "Регион: 78\n"
     ]
    }
   ],
   "source": [
    "number_validity(registration_marks)"
   ]
  },
  {
   "cell_type": "code",
   "execution_count": null,
   "metadata": {},
   "outputs": [],
   "source": []
  },
  {
   "cell_type": "markdown",
   "metadata": {},
   "source": [
    "## Задание 2"
   ]
  },
  {
   "cell_type": "markdown",
   "metadata": {},
   "source": [
    "Напишите функцию, которая проверяет e-mail адрес на валидность по стандарту RFC822: http://www.w3.org/Protocols/rfc822/. Для этого постарайтесь написать (в крайнем случае найти) самый полный шаблон для проверки e-mail адресов через регулярное выражение. Разберитесь и напишите примеры, какие ваш шаблон может не охватить."
   ]
  },
  {
   "cell_type": "code",
   "execution_count": 574,
   "metadata": {},
   "outputs": [],
   "source": [
    "# Лучший способ проверить email на валидность — отправить туда письмо (c) из https://habr.com/ru/post/274985/#comment_8737021\n",
    "#http://www.ex-parrot.com/pdw/Mail-RFC822-Address.html \n",
    "\n",
    "mail_adress = 'u-s..er@a.a.host.a.network'\n",
    "\n",
    "def email_address_validity(mail_adress):\n",
    "    if re.findall(r'(\\s|^)([\\w\\.-]+)@([\\w]{1,10}\\.){1,4}([a-z])+(\\s|$)', mail_adress):\n",
    "        print('Валиден')\n",
    "    else:\n",
    "        print('Невалиден')\n",
    "\n",
    "# не учитываю  \\$ & * - = ^ ` | ~ # % ' + / ? _ { }\n",
    "#ограничил число поддоменов до 4 символами, а длину имени домена/поддомена 10 символами.\n",
    "#не учитывал, что доменное имя может включать тире, но не может с него начинаться\n",
    "#не ограничивал длину сети (ком, ру и тд)"
   ]
  },
  {
   "cell_type": "code",
   "execution_count": 575,
   "metadata": {},
   "outputs": [
    {
     "name": "stdout",
     "output_type": "stream",
     "text": [
      "Валиден\n"
     ]
    }
   ],
   "source": [
    "email_address_validity(mail_adress)"
   ]
  },
  {
   "cell_type": "markdown",
   "metadata": {},
   "source": [
    "## Задание 3\n",
    "Напишите функцию, которая будет удалять все последовательные повторы слов из заданной строки."
   ]
  },
  {
   "cell_type": "code",
   "execution_count": 576,
   "metadata": {},
   "outputs": [],
   "source": [
    "text = 'Напишите функцию функцию, которая будет удалять все \\\n",
    "последовательные повторы повторы слов из заданной строки строки строки ыы.'\n",
    "\n",
    "def delete_duplicate_words(text):\n",
    "    regex_text = re.findall('\\w+', text)\n",
    "    for word in regex_text:\n",
    "        duplicate_test = f'{word} {word}'\n",
    "        text = re.sub(duplicate_test,  word, text)\n",
    "    return print(text)"
   ]
  },
  {
   "cell_type": "code",
   "execution_count": 577,
   "metadata": {},
   "outputs": [
    {
     "name": "stdout",
     "output_type": "stream",
     "text": [
      "Напишите функцию, которая будет удалять все последовательные повторы слов из заданной строки ыы.\n"
     ]
    }
   ],
   "source": [
    "delete_duplicate_words(text)"
   ]
  },
  {
   "cell_type": "code",
   "execution_count": null,
   "metadata": {},
   "outputs": [],
   "source": []
  },
  {
   "cell_type": "markdown",
   "metadata": {},
   "source": [
    "## Задание 4\n",
    "Напишите функцию, которая будет проверять номер сотового телефона на валидность, если он валиден, то переводить его в формат:   \n",
    "+7(xxx)-xxx-xx-xx  \n",
    "Постарайтесь предусмотреть как можно больше адекватных форматов изначального ввода номера.\n",
    "Примеры правильных и неправильных форматов:\n",
    "- +7 955 555-55-55;\n",
    "- 955555555;\n",
    "- 8(955)555-55-55;\n",
    "- +7 955 555 55 55;\n",
    "- 7(955) 555-55-55;\n",
    "- +7 955+555+55+55."
   ]
  },
  {
   "cell_type": "code",
   "execution_count": 578,
   "metadata": {},
   "outputs": [],
   "source": [
    "phone_number = '+7 955+555+55+55'\n",
    "#  1     2     3         4         5     6    7    8    9\n",
    "#(+7)(скобка)(955)(скобка и тире)(555)(тире)(55)(тире)(55);\n",
    "\n",
    "def validate_phone_number():\n",
    "    if re.findall(r'(\\+?[7-8])([\\s\\(\\-]{0,2})([0-9]{3})([\\s\\)\\-\\+]{0,2})([0-9]{3})([\\s\\-\\+]?)([0-9]{2})([\\s\\-\\+]?)([0-9]{2})$' , phone_number):\n",
    "        regex_phone_number = re.sub(r'(\\+?[7-8])([\\s\\(\\-]{0,2})([0-9]{3})([\\s\\)\\-\\+]{0,2})([0-9]{3})([\\s\\-\\+]?)([0-9]{2})([\\s\\-\\+]?)([0-9]{2})$', r'+7(\\3)-\\5-\\7-\\9' , phone_number)\n",
    "        return regex_phone_number\n",
    "    else:\n",
    "        return 'Невалидный номер'\n"
   ]
  },
  {
   "cell_type": "code",
   "execution_count": 579,
   "metadata": {},
   "outputs": [
    {
     "name": "stdout",
     "output_type": "stream",
     "text": [
      "+7(955)-555-55-55\n"
     ]
    }
   ],
   "source": [
    "print(validate_phone_number())"
   ]
  },
  {
   "cell_type": "code",
   "execution_count": null,
   "metadata": {},
   "outputs": [],
   "source": []
  }
 ],
 "metadata": {
  "kernelspec": {
   "display_name": "Python 3",
   "language": "python",
   "name": "python3"
  },
  "language_info": {
   "codemirror_mode": {
    "name": "ipython",
    "version": 3
   },
   "file_extension": ".py",
   "mimetype": "text/x-python",
   "name": "python",
   "nbconvert_exporter": "python",
   "pygments_lexer": "ipython3",
   "version": "3.7.4"
  }
 },
 "nbformat": 4,
 "nbformat_minor": 2
}
